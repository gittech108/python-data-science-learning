{
 "cells": [
  {
   "cell_type": "code",
   "execution_count": 1,
   "id": "a414657e-9aed-45b3-9e57-9169cb530bb9",
   "metadata": {},
   "outputs": [
    {
     "name": "stdout",
     "output_type": "stream",
     "text": [
      "Integer: 10\n",
      "Float: 3.14\n",
      "String: Hello, Python!\n",
      "Boolean: True\n",
      "Type of integer_var: <class 'int'>\n",
      "Type of float_var: <class 'float'>\n",
      "Type of string_var: <class 'str'>\n",
      "Type of boolean_var: <class 'bool'>\n"
     ]
    }
   ],
   "source": [
    "# day1_basics.py\n",
    "\n",
    "# Variables and basic data types\n",
    "integer_var = 10\n",
    "float_var = 3.14\n",
    "string_var = \"Hello, Python!\"\n",
    "boolean_var = True\n",
    "\n",
    "# Printing variables\n",
    "print(\"Integer:\", integer_var)\n",
    "print(\"Float:\", float_var)\n",
    "print(\"String:\", string_var)\n",
    "print(\"Boolean:\", boolean_var)\n",
    "\n",
    "# Type checking\n",
    "print(\"Type of integer_var:\", type(integer_var))\n",
    "print(\"Type of float_var:\", type(float_var))\n",
    "print(\"Type of string_var:\", type(string_var))\n",
    "print(\"Type of boolean_var:\", type(boolean_var))"
   ]
  },
  {
   "cell_type": "code",
   "execution_count": 2,
   "id": "b38d717e-e3d1-468e-8450-73f4b9b0df5f",
   "metadata": {},
   "outputs": [
    {
     "name": "stdout",
     "output_type": "stream",
     "text": [
      "10 + 3 = 13\n",
      "10 - 3 = 7\n",
      "10 * 3 = 30\n",
      "10 / 3 = 3.3333333333333335\n",
      "10 // 3 = 3\n",
      "10 % 3 = 1\n",
      "10 ** 3 = 1000\n",
      "Concatenated string: Hello World\n",
      "Repeated string: HelloHelloHello\n"
     ]
    }
   ],
   "source": [
    "# Basic arithmetic operations\n",
    "a = 10\n",
    "b = 3\n",
    "\n",
    "addition = a + b\n",
    "subtraction = a - b\n",
    "multiplication = a * b\n",
    "division = a / b\n",
    "floor_division = a // b\n",
    "modulus = a % b\n",
    "exponentiation = a ** b\n",
    "\n",
    "print(f\"{a} + {b} = {addition}\")\n",
    "print(f\"{a} - {b} = {subtraction}\")\n",
    "print(f\"{a} * {b} = {multiplication}\")\n",
    "print(f\"{a} / {b} = {division}\")\n",
    "print(f\"{a} // {b} = {floor_division}\")\n",
    "print(f\"{a} % {b} = {modulus}\")\n",
    "print(f\"{a} ** {b} = {exponentiation}\")\n",
    "\n",
    "# String operations\n",
    "str1 = \"Hello\"\n",
    "str2 = \"World\"\n",
    "concatenated = str1 + \" \" + str2\n",
    "repeated = str1 * 3\n",
    "\n",
    "print(\"Concatenated string:\", concatenated)\n",
    "print(\"Repeated string:\", repeated)"
   ]
  },
  {
   "cell_type": "code",
   "execution_count": 3,
   "id": "91cc7695-66f3-4b14-aac0-43c8a6ae6943",
   "metadata": {},
   "outputs": [
    {
     "name": "stdout",
     "output_type": "stream",
     "text": [
      "Integer from float: 3\n",
      "Float from integer: 5.0\n",
      "String from number: 42\n",
      "Integer from string: 100\n"
     ]
    }
   ],
   "source": [
    "# Problem: Calculate the area of a rectangle\n",
    "length = 5\n",
    "width = 3\n",
    "area = length * width\n",
    "print(f\"The area of a rectangle with length {length} and width {width} is: {area}\")\n",
    "\n",
    "# Problem: Convert temperature from Celsius to Fahrenheit\n",
    "celsius = 25\n",
    "fahrenheit = (celsius * 9/5) + 32\n",
    "print(f\"{celsius}°C is equal to {fahrenheit}°F\")"
   ]
  },
  {
   "cell_type": "code",
   "execution_count": 4,
   "id": "f8214b0a-9432-40f9-90c9-6227ff70465c",
   "metadata": {},
   "outputs": [
    {
     "name": "stdout",
     "output_type": "stream",
     "text": [
      "The area of a rectangle with length 5 and width 3 is: 15\n",
      "25°C is equal to 77.0°F\n"
     ]
    }
   ],
   "source": [
    "# Problem: Calculate the area of a rectangle\n",
    "length = 5\n",
    "width = 3\n",
    "area = length * width\n",
    "print(f\"The area of a rectangle with length {length} and width {width} is: {area}\")\n",
    "\n",
    "# Problem: Convert temperature from Celsius to Fahrenheit\n",
    "celsius = 25\n",
    "fahrenheit = (celsius * 9/5) + 32\n",
    "print(f\"{celsius}°C is equal to {fahrenheit}°F\")"
   ]
  }
 ],
 "metadata": {
  "kernelspec": {
   "display_name": "Python 3 (ipykernel)",
   "language": "python",
   "name": "python3"
  },
  "language_info": {
   "codemirror_mode": {
    "name": "ipython",
    "version": 3
   },
   "file_extension": ".py",
   "mimetype": "text/x-python",
   "name": "python",
   "nbconvert_exporter": "python",
   "pygments_lexer": "ipython3",
   "version": "3.9.13"
  }
 },
 "nbformat": 4,
 "nbformat_minor": 5
}
